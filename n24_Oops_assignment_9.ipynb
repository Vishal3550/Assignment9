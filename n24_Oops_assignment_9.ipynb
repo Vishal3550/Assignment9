{
 "cells": [
  {
   "cell_type": "code",
   "execution_count": 1,
   "id": "df582046-6c39-40f4-b632-4d7f7f819fbb",
   "metadata": {},
   "outputs": [],
   "source": [
    "# Q1. What is Abstraction in OOps? Explain with an example.\n",
    "\n",
    "# Answer:-Abstraction in python is defined as a process of handling complexity by hiding unnecessary information from the user. \n",
    "#         This is one of the core concepts of object-oriented programming (OOP) languages. That enables the user to implement \n",
    "#         even more complex logic on top of the provided abstraction without understanding or even thinking about all the hidden \n",
    "#         background/back-end complexity.\n",
    "\n",
    "import abc\n",
    "class pwskills:\n",
    "    \n",
    "    @abc.abstractmethod\n",
    "    def student_details(self):\n",
    "        pass\n",
    "    \n",
    "    @abc.abstractmethod\n",
    "    def student_assignment(self):\n",
    "        pass\n",
    "    \n",
    "    @abc.abstractmethod\n",
    "    def student_marks(self):\n",
    "        pass\n",
    "    \n"
   ]
  },
  {
   "cell_type": "code",
   "execution_count": 2,
   "id": "fe2fa452-c104-46ea-8f07-f60bfad2ea85",
   "metadata": {},
   "outputs": [],
   "source": [
    "class student_details(pwskills):\n",
    "    \n",
    "    def students_details(self):\n",
    "        return \"this is a meth for taking students details \"\n",
    "    \n",
    "    def student_assignment(self):\n",
    "        return \"this is a meth for assing details for a perticualt student\""
   ]
  },
  {
   "cell_type": "code",
   "execution_count": 3,
   "id": "0ac20f5e-b880-4ea9-9df8-de8637cf51df",
   "metadata": {},
   "outputs": [],
   "source": [
    "class data_science_masters(pwskills):\n",
    "    \n",
    "    def students_details(self):\n",
    "        return \"this will return a student details for data science masters\"\n",
    "    \n",
    "    def student_assignment(self):\n",
    "        return \"this will give you a student assignment detail for data science masters\"\n",
    "        "
   ]
  },
  {
   "cell_type": "code",
   "execution_count": 4,
   "id": "7a24d509-b3ef-4b8c-9353-ad7624b56a4a",
   "metadata": {},
   "outputs": [
    {
     "data": {
      "text/plain": [
       "'this will return a student details for data science masters'"
      ]
     },
     "execution_count": 4,
     "metadata": {},
     "output_type": "execute_result"
    }
   ],
   "source": [
    "dsm = data_science_masters()\n",
    "dsm.students_details()"
   ]
  },
  {
   "cell_type": "code",
   "execution_count": 5,
   "id": "2160b027-7806-4f9d-a86d-352b1b11c081",
   "metadata": {},
   "outputs": [
    {
     "data": {
      "text/plain": [
       "'this is a meth for taking students details '"
      ]
     },
     "execution_count": 5,
     "metadata": {},
     "output_type": "execute_result"
    }
   ],
   "source": [
    "sd = student_details()\n",
    "sd.students_details()"
   ]
  },
  {
   "cell_type": "code",
   "execution_count": 7,
   "id": "b5baae25-e9b2-4160-96c8-e291be106dba",
   "metadata": {},
   "outputs": [
    {
     "name": "stdout",
     "output_type": "stream",
     "text": [
      "This is good vishal\n"
     ]
    }
   ],
   "source": [
    "# Q2. Differentiate between Abstraction and Encapsulation. Explain with an example\n",
    "\n",
    "# * Abstraction:-\n",
    "\n",
    "#   1.It is the process of gaining information.\n",
    "#   2.The problems in this technique are solved at the interface level.\n",
    "#   3.It helps hide the unwanted details/information.\n",
    "#   4.It can be implemented using abstract classes and interfaces.\n",
    "#   5.The complexities of the implementation are hidden using interface and abstract class.\n",
    "#   6.Abstraction can be performed using objects that are encapsulated within a single module.\n",
    "\n",
    "# * Encapsulation:-\n",
    "\n",
    "#   1.It is a method that helps wrap up data into a single module.\n",
    "#   2.Problems in encapsulation are solved at the implementation level.\n",
    "#   3.helps hide data using a single entity, or using a unit with the help of method that helps protect the information.\n",
    "#   4.It can be implemented using access modifiers like public, private and protected.\n",
    "#   5.The data is hidden using methods such as getters and setters.\n",
    "#   6.Objects in encapsulation don't need to be in abstraction.\n",
    "\n",
    "\n",
    "\n",
    "class Employee:\n",
    "    no_of_leaves = 8\n",
    "\n",
    "    def __init__(self, aname, asalary, arole):\n",
    "        self.name = aname\n",
    "        self.salary = asalary\n",
    "        self.role = arole\n",
    "\n",
    "    def printdetails(self):\n",
    "        return f\"The Name is {self.name}. Salary is {self.salary} and role is {self.role}\"\n",
    "\n",
    "    @classmethod\n",
    "    def change_leaves(cls, newleaves):\n",
    "        cls.no_of_leaves = newleaves\n",
    "\n",
    "    @classmethod\n",
    "    def from_dash(cls, string):\n",
    "        return cls(*string.split(\"-\"))\n",
    "\n",
    "    @staticmethod\n",
    "    def printgood(string):\n",
    "        print(\"This is good \" + string)\n",
    "\n",
    "vishal = Employee(\"vishal\", 255, \"Instructor\")\n",
    "rohan = Employee(\"Rohan\", 455, \"Student\")\n",
    "karan = Employee.from_dash(\"Karan-480-Student\")\n",
    "\n",
    "Employee.printgood(\"vishal\")\n",
    "\n",
    "\n"
   ]
  },
  {
   "cell_type": "code",
   "execution_count": 8,
   "id": "b3786518-80fc-4660-b5af-de89b55b37f6",
   "metadata": {},
   "outputs": [
    {
     "name": "stdout",
     "output_type": "stream",
     "text": [
      "area:  200\n"
     ]
    }
   ],
   "source": [
    "# Q3. What is abc module in python? Why is it used?\n",
    "# Answer:-The 'abc' module in Python library provides the infrastructure for defining custom abstract base classes. \n",
    "#         'abc' works by marking methods of the base class as abstract.\n",
    "\n",
    "import abc\n",
    "class Shape(metaclass=abc.ABCMeta):\n",
    "   @abc.abstractmethod\n",
    "   def area(self):\n",
    "      pass\n",
    "class Rectangle(Shape):\n",
    "   def __init__(self, x,y):\n",
    "      self.l = x\n",
    "      self.b=y\n",
    "   def area(self):\n",
    "      return self.l*self.b\n",
    "r = Rectangle(10,20)\n",
    "print ('area: ',r.area())"
   ]
  },
  {
   "cell_type": "code",
   "execution_count": 9,
   "id": "378a5d03-66f1-4bc1-9738-0d7ff8dad221",
   "metadata": {},
   "outputs": [],
   "source": [
    "# Q4. How can we achieve data abstraction?\n",
    "\n",
    "# Answer:-Data Abstraction in Python can be achieved through creating abstract classes and inheriting them later.\n",
    "#         A class that consists of one or more abstract method is called the abstract class. Abstract methods do \n",
    "#         not contain their implementation. Abstract class can be inherited by the subclass and abstract method \n",
    "#         gets its definition in the subclass. Abstraction classes are meant to be the blueprint of the other class."
   ]
  },
  {
   "cell_type": "code",
   "execution_count": null,
   "id": "b89d4bbf-9ba7-4775-bd8f-742818716be7",
   "metadata": {},
   "outputs": [],
   "source": [
    "# Q5. Can we create an instance of an abstract class? Explain your answer.\n",
    "\n",
    "# Answer:-Abstract classes are not complete, as they may have some methods that are not defined. \n",
    "#         So we cannot create an instance or object of an abstract class in Python.\n"
   ]
  }
 ],
 "metadata": {
  "kernelspec": {
   "display_name": "Python 3 (ipykernel)",
   "language": "python",
   "name": "python3"
  },
  "language_info": {
   "codemirror_mode": {
    "name": "ipython",
    "version": 3
   },
   "file_extension": ".py",
   "mimetype": "text/x-python",
   "name": "python",
   "nbconvert_exporter": "python",
   "pygments_lexer": "ipython3",
   "version": "3.10.8"
  }
 },
 "nbformat": 4,
 "nbformat_minor": 5
}
